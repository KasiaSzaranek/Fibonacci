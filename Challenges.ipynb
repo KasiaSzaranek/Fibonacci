{
 "cells": [
  {
   "cell_type": "markdown",
   "metadata": {},
   "source": [
    "# Fibonacci"
   ]
  },
  {
   "cell_type": "code",
   "execution_count": 13,
   "metadata": {},
   "outputs": [
    {
     "name": "stdout",
     "output_type": "stream",
     "text": [
      "Enter a positive integer: 10\n",
      "Fibonacci sequence upto 10 :\n",
      "0 , 1 , 1 , 2 , 3 , 5 , 8 , 13 , 21 , 34 , "
     ]
    }
   ],
   "source": [
    "nterms = int(input(\"Enter a positive integer: \"))\n",
    "\n",
    "n1 = 0\n",
    "\n",
    "n2 = 1\n",
    "\n",
    "count = 0\n",
    "\n",
    "if nterms <= 0:\n",
    "    \n",
    "   print (\"Please enter a positive integer\")\n",
    "\n",
    "elif nterms == 1:\n",
    "    \n",
    "   print (\"Fibonacci sequence upto\",nterms,\":\")\n",
    "\n",
    "   print(n1)\n",
    "    \n",
    "else:\n",
    "    \n",
    "   print (\"Fibonacci sequence upto\",nterms,\":\")\n",
    "\n",
    "   while count < nterms:\n",
    "        \n",
    "       print (n1,end=' , ')\n",
    "    \n",
    "       nth = n1 + n2\n",
    "        \n",
    "       n1 = n2\n",
    "    \n",
    "       n2 = nth\n",
    "        \n",
    "       count += 1    "
   ]
  }
 ],
 "metadata": {
  "kernelspec": {
   "display_name": "Python 3",
   "language": "python",
   "name": "python3"
  },
  "language_info": {
   "codemirror_mode": {
    "name": "ipython",
    "version": 3
   },
   "file_extension": ".py",
   "mimetype": "text/x-python",
   "name": "python",
   "nbconvert_exporter": "python",
   "pygments_lexer": "ipython3",
   "version": "3.5.2"
  }
 },
 "nbformat": 4,
 "nbformat_minor": 2
}
